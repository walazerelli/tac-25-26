{
 "cells": [
  {
   "cell_type": "markdown",
   "metadata": {},
   "source": [
    "# APIs: requêtes HTTP"
   ]
  },
  {
   "cell_type": "markdown",
   "metadata": {},
   "source": [
    "## Imports"
   ]
  },
  {
   "cell_type": "code",
   "execution_count": 1,
   "metadata": {},
   "outputs": [],
   "source": [
    "import json\n",
    "import requests"
   ]
  },
  {
   "cell_type": "code",
   "execution_count": 3,
   "metadata": {},
   "outputs": [
    {
     "name": "stdout",
     "output_type": "stream",
     "text": [
      "Mi piacciono le spiegazioni di questo corso\n"
     ]
    }
   ],
   "source": [
    "API_URL = \"https://translate.googleapis.com/translate_a/single\"\n",
    " \n",
    "data = {\n",
    "    \"client\": \"gtx\",\n",
    "    \"dt\": \"t\",\n",
    "    \"sl\": \"en\",\n",
    "    \"tl\": \"it\",\n",
    "    \"q\": \"I like the explanations in this course\"    \n",
    "}\n",
    "r=requests.post(API_URL,data=data)\n",
    "print(r.json()[0][0][0])\n"
   ]
  }
 ],
 "metadata": {
  "kernelspec": {
   "display_name": ".venv",
   "language": "python",
   "name": "python3"
  },
  "language_info": {
   "codemirror_mode": {
    "name": "ipython",
    "version": 3
   },
   "file_extension": ".py",
   "mimetype": "text/x-python",
   "name": "python",
   "nbconvert_exporter": "python",
   "pygments_lexer": "ipython3",
   "version": "3.11.9"
  }
 },
 "nbformat": 4,
 "nbformat_minor": 4
}
